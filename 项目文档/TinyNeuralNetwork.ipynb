{
 "cells": [
  {
   "cell_type": "code",
   "execution_count": 8,
   "id": "df4678a6",
   "metadata": {},
   "outputs": [
    {
     "name": "stderr",
     "output_type": "stream",
     "text": [
      "INFO (tinynn.converter.base) Generated model saved to ./out/mbv1_224.tflite\n"
     ]
    }
   ],
   "source": [
    "import os\n",
    "import sys\n",
    "\n",
    "import torch\n",
    "from torch import nn\n",
    "from tinynn.converter import TFLiteConverter\n",
    "\n",
    "def nin_block(in_channels, out_channels, kernel_size, strides, padding):\n",
    "    return nn.Sequential(\n",
    "        nn.Conv2d(in_channels, out_channels, kernel_size, strides, padding),\n",
    "        nn.ReLU(),\n",
    "        nn.Conv2d(out_channels, out_channels, kernel_size=1), nn.ReLU(),\n",
    "        nn.Conv2d(out_channels, out_channels, kernel_size=1), nn.ReLU())\n",
    "\n",
    "class AlexNet(nn.Module):\n",
    "    def __init__(self):\n",
    "        super(AlexNet,self).__init__()\n",
    "        self.features = nn.Sequential(\n",
    "            nin_block(1, 32, kernel_size=11, strides=4, padding=0),\n",
    "            nn.MaxPool2d(3, stride=2),\n",
    "            nin_block(32, 64, kernel_size=5, strides=1, padding=2),\n",
    "            nn.MaxPool2d(3, stride=2),\n",
    "            nin_block(64, 32, kernel_size=3, strides=1, padding=1),\n",
    "            nn.MaxPool2d(3, stride=2),\n",
    "            nn.Dropout(0.5),\n",
    "            # 标签类别数是10\n",
    "            nin_block(32, 10, kernel_size=3, strides=1, padding=1),\n",
    "            nn.AdaptiveAvgPool2d((1, 1)),\n",
    "            # 将四维的输出转成二维的输出，其形状为(批量大小,10)\n",
    "            nn.Flatten())\n",
    "    def forward(self,x):\n",
    "        x = self.features(x)\n",
    "        return x\n",
    "\n",
    "def main_worker():\n",
    "    model = torch.load('best.pt')\n",
    "    model.eval()\n",
    "    \n",
    "    dummy_input = torch.rand((1, 1, 224, 224))\n",
    "\n",
    "    output_path = os.path.join(\"./\", 'out', 'mbv1_224.tflite')\n",
    "\n",
    "    # When converting quantized models, please ensure the quantization backend is set.\n",
    "    torch.backends.quantized.engine = 'qnnpack'\n",
    "\n",
    "    # The code section below is used to convert the model to the TFLite format\n",
    "    # If you want perform dynamic quantization on the float models,\n",
    "    # you may refer to `dynamic.py`, which is in the same folder.\n",
    "    # As for static quantization (e.g. quantization-aware training and post-training quantization),\n",
    "    # please refer to the code examples in the `examples/quantization` folder.\n",
    "    converter = TFLiteConverter(model, dummy_input, output_path)\n",
    "    converter.convert()\n",
    "\n",
    "\n",
    "if __name__ == '__main__':\n",
    "    main_worker()"
   ]
  }
 ],
 "metadata": {
  "kernelspec": {
   "display_name": "pt12",
   "language": "python",
   "name": "pt12"
  },
  "language_info": {
   "codemirror_mode": {
    "name": "ipython",
    "version": 3
   },
   "file_extension": ".py",
   "mimetype": "text/x-python",
   "name": "python",
   "nbconvert_exporter": "python",
   "pygments_lexer": "ipython3",
   "version": "3.9.13"
  }
 },
 "nbformat": 4,
 "nbformat_minor": 5
}

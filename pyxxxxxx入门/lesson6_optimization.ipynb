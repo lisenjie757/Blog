{
 "cells": [
  {
   "cell_type": "code",
   "execution_count": 1,
   "id": "d723c487",
   "metadata": {},
   "outputs": [],
   "source": [
    "import torch\n",
    "from torch import nn\n",
    "from torch.utils.data import DataLoader\n",
    "from torchvision import datasets\n",
    "from torchvision.transforms import ToTensor,Lambda"
   ]
  },
  {
   "cell_type": "markdown",
   "id": "aa0bb4e8",
   "metadata": {},
   "source": [
    "# 前置代码\n",
    "## 数据集&数据加载器&构建模型"
   ]
  },
  {
   "cell_type": "code",
   "execution_count": 2,
   "id": "9f60c625",
   "metadata": {},
   "outputs": [],
   "source": [
    "training_data = datasets.FashionMNIST(\n",
    "    root = \"data\",\n",
    "    train = True,\n",
    "    download = True,\n",
    "    transform = ToTensor()\n",
    ")\n",
    "\n",
    "test_data = datasets.FashionMNIST(\n",
    "    root = \"data\",\n",
    "    train = False,\n",
    "    download = True,\n",
    "    transform = ToTensor()\n",
    ")\n",
    "\n",
    "train_dataloader = DataLoader(training_data,batch_size=64,shuffle=True)\n",
    "test_dataloader = DataLoader(test_data,batch_size=64,shuffle=True)\n",
    "\n",
    "class NeuralNetwork(nn.Module):\n",
    "    def __init__(self):\n",
    "        super(NeuralNetwork,self).__init__()\n",
    "        self.flatten = nn.Flatten()\n",
    "        self.linear_relu_stack = nn.Sequential(\n",
    "            nn.Linear(28*28,512),\n",
    "            nn.ReLU(),\n",
    "            nn.Linear(512,512),\n",
    "            nn.ReLU(),\n",
    "            nn.Linear(512,10),\n",
    "        )\n",
    "        \n",
    "    def forward(self,x):\n",
    "        x = self.flatten(x)\n",
    "        logits = self.linear_relu_stack(x)\n",
    "        return logits\n",
    "\n",
    "model = NeuralNetwork().to('cuda')"
   ]
  },
  {
   "cell_type": "markdown",
   "id": "8fb3ca81",
   "metadata": {},
   "source": [
    "# 超参数"
   ]
  },
  {
   "cell_type": "code",
   "execution_count": 3,
   "id": "7b3ba3d2",
   "metadata": {},
   "outputs": [],
   "source": [
    "learning_rate = 1e-3\n",
    "batch_size = 64\n",
    "epochs = 5"
   ]
  },
  {
   "cell_type": "markdown",
   "id": "1823394d",
   "metadata": {},
   "source": [
    "# 优化循环\n",
    "## 损失函数"
   ]
  },
  {
   "cell_type": "code",
   "execution_count": 4,
   "id": "d833db49",
   "metadata": {},
   "outputs": [],
   "source": [
    "## 初始化损失函数\n",
    "loss_fn = nn.CrossEntropyLoss().to('cuda')"
   ]
  },
  {
   "cell_type": "markdown",
   "id": "ecf274fe",
   "metadata": {},
   "source": [
    "## 优化器"
   ]
  },
  {
   "cell_type": "code",
   "execution_count": 5,
   "id": "d0f6093d",
   "metadata": {},
   "outputs": [],
   "source": [
    "## 此处使用SGD，还有ADAM RMSProp\n",
    "optimizer = torch.optim.SGD(model.parameters(),lr=learning_rate)"
   ]
  },
  {
   "cell_type": "markdown",
   "id": "73e955b0",
   "metadata": {},
   "source": [
    "# 完整实现"
   ]
  },
  {
   "cell_type": "code",
   "execution_count": 6,
   "id": "949e442f",
   "metadata": {},
   "outputs": [
    {
     "name": "stdout",
     "output_type": "stream",
     "text": [
      "Epoch 1\n",
      "----------------------------\n",
      "loss: 2.304493  [    0/60000]\n",
      "loss: 2.283905  [ 6400/60000]\n",
      "loss: 2.284196  [12800/60000]\n",
      "loss: 2.263063  [19200/60000]\n",
      "loss: 2.251981  [25600/60000]\n",
      "loss: 2.237573  [32000/60000]\n",
      "loss: 2.227256  [38400/60000]\n",
      "loss: 2.204539  [44800/60000]\n",
      "loss: 2.182078  [51200/60000]\n",
      "loss: 2.162598  [57600/60000]\n",
      "Test Error: \n",
      " Accuracy: 49.6%, Ang loss: 2.161115\n",
      "\n",
      "Done\n"
     ]
    }
   ],
   "source": [
    "def train_loop(dataloader,model,loss_fn,optimizer):\n",
    "    size = len(dataloader.dataset)\n",
    "    for batch,(X,y) in enumerate(dataloader):\n",
    "        X = X.to('cuda')\n",
    "        y = y.to('cuda')\n",
    "        ## 计算预测和损失\n",
    "        pred = model(X)\n",
    "        loss = loss_fn(pred,y)\n",
    "        \n",
    "        ## 反向传播\n",
    "        optimizer.zero_grad()\n",
    "        loss.backward()\n",
    "        optimizer.step()\n",
    "        \n",
    "        if batch % 100 == 0:\n",
    "            loss,current = loss.item(),batch*len(X)\n",
    "            print(f\"loss: {loss:>7f}  [{current:>5d}/{size:>5d}]\")\n",
    "            \n",
    "def test_loop(dataloader,model,loss_fn):\n",
    "    size = len(dataloader.dataset)\n",
    "    num_batches = len(dataloader)\n",
    "    test_loss,correct = 0,0\n",
    "    \n",
    "    with torch.no_grad():\n",
    "        for X,y in dataloader:\n",
    "            X = X.to('cuda')\n",
    "            y = y.to('cuda')\n",
    "            \n",
    "            pred = model(X)\n",
    "            test_loss += loss_fn(pred,y).item()\n",
    "            correct += (pred.argmax(1)==y).type(torch.float).sum().item()\n",
    "            \n",
    "    test_loss /= num_batches\n",
    "    correct /= size\n",
    "    print(f\"Test Error: \\n Accuracy: {(100*correct):>0.1f}%, Ang loss: {test_loss:>8f}\\n\")\n",
    "    \n",
    "epochs = 1\n",
    "for t in range(epochs):\n",
    "    print(f\"Epoch {t+1}\\n----------------------------\")\n",
    "    train_loop(train_dataloader,model,loss_fn,optimizer)\n",
    "    test_loop(test_dataloader,model,loss_fn)\n",
    "print(\"Done\")"
   ]
  }
 ],
 "metadata": {
  "kernelspec": {
   "display_name": "pt12",
   "language": "python",
   "name": "pt12"
  },
  "language_info": {
   "codemirror_mode": {
    "name": "ipython",
    "version": 3
   },
   "file_extension": ".py",
   "mimetype": "text/x-python",
   "name": "python",
   "nbconvert_exporter": "python",
   "pygments_lexer": "ipython3",
   "version": "3.9.13"
  }
 },
 "nbformat": 4,
 "nbformat_minor": 5
}

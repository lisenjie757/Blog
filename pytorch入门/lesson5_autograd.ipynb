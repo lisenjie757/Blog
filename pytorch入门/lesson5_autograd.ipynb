{
 "cells": [
  {
   "cell_type": "code",
   "execution_count": 1,
   "id": "e1608982",
   "metadata": {},
   "outputs": [],
   "source": [
    "import torch"
   ]
  },
  {
   "cell_type": "markdown",
   "id": "d82f0100",
   "metadata": {},
   "source": [
    "# 定义最简单的单层神经网络"
   ]
  },
  {
   "cell_type": "code",
   "execution_count": 2,
   "id": "a112183c",
   "metadata": {},
   "outputs": [],
   "source": [
    "## input tensor\n",
    "x = torch.ones(5)\n",
    "## expected output\n",
    "y = torch.zeros(3)\n",
    "w = torch.randn(5,3,requires_grad=True)\n",
    "b = torch.randn(3,requires_grad=True)\n",
    "z = torch.matmul(x,w) + b\n",
    "loss = torch.nn.functional.binary_cross_entropy_with_logits(z,y)"
   ]
  },
  {
   "cell_type": "markdown",
   "id": "3f3554a6",
   "metadata": {},
   "source": [
    "## 反向传播函数的引用存储在张量的grad_fn属性中"
   ]
  },
  {
   "cell_type": "code",
   "execution_count": 3,
   "id": "38888068",
   "metadata": {},
   "outputs": [
    {
     "name": "stdout",
     "output_type": "stream",
     "text": [
      "z = <AddBackward0 object at 0x7f05c46fa040>\n",
      "loss = <BinaryCrossEntropyWithLogitsBackward0 object at 0x7f05c4845f70>\n"
     ]
    }
   ],
   "source": [
    "print(\"z = \"+str(z.grad_fn))\n",
    "print(\"loss = \"+str(loss.grad_fn))"
   ]
  },
  {
   "cell_type": "markdown",
   "id": "1da04fa7",
   "metadata": {},
   "source": [
    "## 计算梯度"
   ]
  },
  {
   "cell_type": "code",
   "execution_count": 4,
   "id": "159595e0",
   "metadata": {},
   "outputs": [
    {
     "name": "stdout",
     "output_type": "stream",
     "text": [
      "tensor([[0.2915, 0.1360, 0.1072],\n",
      "        [0.2915, 0.1360, 0.1072],\n",
      "        [0.2915, 0.1360, 0.1072],\n",
      "        [0.2915, 0.1360, 0.1072],\n",
      "        [0.2915, 0.1360, 0.1072]])\n",
      "tensor([0.2915, 0.1360, 0.1072])\n"
     ]
    }
   ],
   "source": [
    "loss.backward()\n",
    "print(w.grad)\n",
    "print(b.grad)"
   ]
  },
  {
   "cell_type": "markdown",
   "id": "ab549a41",
   "metadata": {},
   "source": [
    "## 禁用梯度跟踪\n",
    "### 有时已有训练好的模型，我们只想推理，不想更新参数，可以使用torch.no_grad()或detach()来禁用梯度计算\n",
    "### 以下是可能要禁用梯度跟踪的几点理由：1.做微调时可能需要冻结某些参数 2.只做推理时提高计算效率"
   ]
  },
  {
   "cell_type": "code",
   "execution_count": 7,
   "id": "65403fe4",
   "metadata": {},
   "outputs": [
    {
     "name": "stdout",
     "output_type": "stream",
     "text": [
      "True\n",
      "False\n",
      "False\n"
     ]
    }
   ],
   "source": [
    "z = torch.matmul(x,w) + b\n",
    "print(z.requires_grad)\n",
    "\n",
    "with torch.no_grad():\n",
    "    z = torch.matmul(x,w) + b\n",
    "print(z.requires_grad)\n",
    "\n",
    "z = torch.matmul(x,w) + b\n",
    "z_det = z.detach()\n",
    "print(z_det.requires_grad)"
   ]
  },
  {
   "cell_type": "markdown",
   "id": "78b52fe8",
   "metadata": {},
   "source": [
    "# 张量梯度和Jacobian Products\n",
    "## 1.PyTorch backward grad实际计算保存的是Jacobian Products=vT*J，默认v=tensor(1.0)\n",
    "## 2.PyTorch的机制会累积梯度，所以需要清零，实际训练时优化器会自动帮助我们清零"
   ]
  },
  {
   "cell_type": "code",
   "execution_count": 9,
   "id": "11373202",
   "metadata": {},
   "outputs": [
    {
     "name": "stdout",
     "output_type": "stream",
     "text": [
      "First Call\n",
      "tensor([[4., 2., 2., 2., 2.],\n",
      "        [2., 4., 2., 2., 2.],\n",
      "        [2., 2., 4., 2., 2.],\n",
      "        [2., 2., 2., 4., 2.],\n",
      "        [2., 2., 2., 2., 4.]])\n",
      "\n",
      "Second Call\n",
      "tensor([[8., 4., 4., 4., 4.],\n",
      "        [4., 8., 4., 4., 4.],\n",
      "        [4., 4., 8., 4., 4.],\n",
      "        [4., 4., 4., 8., 4.],\n",
      "        [4., 4., 4., 4., 8.]])\n",
      "\n",
      "Call after zeroing gradients\n",
      "tensor([[4., 2., 2., 2., 2.],\n",
      "        [2., 4., 2., 2., 2.],\n",
      "        [2., 2., 4., 2., 2.],\n",
      "        [2., 2., 2., 4., 2.],\n",
      "        [2., 2., 2., 2., 4.]])\n"
     ]
    }
   ],
   "source": [
    "inp = torch.eye(5,requires_grad=True)\n",
    "out = (inp+1).pow(2)\n",
    "out.backward(torch.ones_like(inp),retain_graph=True)\n",
    "print(\"First Call\\n\"+str(inp.grad))\n",
    "out.backward(torch.ones_like(inp),retain_graph=True)\n",
    "print(\"\\nSecond Call\\n\"+str(inp.grad))\n",
    "inp.grad.zero_()\n",
    "out.backward(torch.ones_like(inp),retain_graph=True)\n",
    "print(\"\\nCall after zeroing gradients\\n\"+str(inp.grad))"
   ]
  }
 ],
 "metadata": {
  "kernelspec": {
   "display_name": "pt12",
   "language": "python",
   "name": "pt12"
  },
  "language_info": {
   "codemirror_mode": {
    "name": "ipython",
    "version": 3
   },
   "file_extension": ".py",
   "mimetype": "text/x-python",
   "name": "python",
   "nbconvert_exporter": "python",
   "pygments_lexer": "ipython3",
   "version": "3.8.13"
  }
 },
 "nbformat": 4,
 "nbformat_minor": 5
}

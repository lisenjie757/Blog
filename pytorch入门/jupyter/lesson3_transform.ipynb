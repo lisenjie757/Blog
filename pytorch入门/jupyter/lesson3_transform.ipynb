{
 "cells": [
  {
   "cell_type": "markdown",
   "id": "31305539",
   "metadata": {},
   "source": [
    "# 图像和标签的转换函数\n",
    "## ToTensor() ：转换PIL图像和NumPy数组为FloatTensor，并归一化图像像素值为[0.,1.]\n",
    "## Lamda Transforms ：此函数为用户自定义lamda函数；此处函数为将整数转换为one-hot编码，首先创建zero张量，长度取决于类别数，然后调用scatter_函数通过整数y对张量进行1填充\n",
    "### scatter_函数填充原理(dim=0) ：self[ index[i][j] ] [j] = src[i][j]"
   ]
  },
  {
   "cell_type": "code",
   "execution_count": 7,
   "id": "7b88f34c",
   "metadata": {},
   "outputs": [],
   "source": [
    "import torch\n",
    "from torchvision import datasets\n",
    "from torchvision.transforms import ToTensor, Lambda\n",
    "\n",
    "ds = datasets.FashionMNIST(\n",
    "    root = \"data\",\n",
    "    train = True,\n",
    "    download = True,\n",
    "    transform = ToTensor(),\n",
    "    target_transform = Lambda(lambda y: torch.zeros(10,dtype=torch.float).scatter_(0,torch.tensor(y),value=1))\n",
    ")"
   ]
  }
 ],
 "metadata": {
  "kernelspec": {
   "display_name": "pt12",
   "language": "python",
   "name": "pt12"
  },
  "language_info": {
   "codemirror_mode": {
    "name": "ipython",
    "version": 3
   },
   "file_extension": ".py",
   "mimetype": "text/x-python",
   "name": "python",
   "nbconvert_exporter": "python",
   "pygments_lexer": "ipython3",
   "version": "3.8.13"
  }
 },
 "nbformat": 4,
 "nbformat_minor": 5
}

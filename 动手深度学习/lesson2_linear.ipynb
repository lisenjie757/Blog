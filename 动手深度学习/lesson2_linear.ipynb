{
 "cells": [
  {
   "cell_type": "code",
   "execution_count": 87,
   "id": "a16f190f",
   "metadata": {},
   "outputs": [],
   "source": [
    "import torch\n",
    "import numpy as np\n",
    "import random\n",
    "import matplotlib.pyplot as plt"
   ]
  },
  {
   "cell_type": "markdown",
   "id": "736db749",
   "metadata": {},
   "source": [
    "# 生成一个线性回归数据集\n",
    "## y = Xw + b + ε\n",
    "## 假设 w = [2,-3.4]T，b = 4.2，噪声ε～N(0,0.01^2)"
   ]
  },
  {
   "cell_type": "code",
   "execution_count": 88,
   "id": "55125511",
   "metadata": {},
   "outputs": [],
   "source": [
    "def synthetic_data(w,b,num_examples):\n",
    "    #样本从标准正态分布中采集\n",
    "    X = torch.normal(0,1,(num_examples,len(w)))\n",
    "    y = X @ w + b\n",
    "    y += torch.normal(0,0.01,y.shape)\n",
    "    return X,y.reshape((-1,1))\n",
    "\n",
    "true_w = torch.tensor([2,-3.4])\n",
    "true_b = 4.2\n",
    "features,labels = synthetic_data(true_w,true_b,1000)"
   ]
  },
  {
   "cell_type": "markdown",
   "id": "7b9ae33e",
   "metadata": {},
   "source": [
    "# 线性回归从0开始实现\n",
    "## 数据可视化展示\n",
    "### plt.scatter(x,y,dot_size)绘制散点图\n",
    "### torch.detach()切断计算图，防止反向传播更新"
   ]
  },
  {
   "cell_type": "code",
   "execution_count": 89,
   "id": "5171a1bc",
   "metadata": {},
   "outputs": [
    {
     "data": {
      "text/plain": [
       "<matplotlib.collections.PathCollection at 0x7fb2935bb610>"
      ]
     },
     "execution_count": 89,
     "metadata": {},
     "output_type": "execute_result"
    },
    {
     "data": {
      "image/png": "[encoded data removed]",
      "text/plain": [
       "<Figure size 432x288 with 1 Axes>"
      ]
     },
     "metadata": {
      "needs_background": "light"
     },
     "output_type": "display_data"
    }
   ],
   "source": [
    "plt.scatter(features[:,1].detach().numpy(),labels.detach().numpy(),1)"
   ]
  },
  {
   "cell_type": "markdown",
   "id": "7c55fcbe",
   "metadata": {},
   "source": [
    "## 读取数据集"
   ]
  },
  {
   "cell_type": "code",
   "execution_count": 90,
   "id": "a121a2f2",
   "metadata": {},
   "outputs": [],
   "source": [
    "##这种写法效率远低于框架的内置迭代器\n",
    "def data_iter(batch_size,features,labels):\n",
    "    num_examples = len(features)\n",
    "    indices = list(range(num_examples))\n",
    "    random.shuffle(indices)\n",
    "    for i in range(0,num_examples,batch_size):\n",
    "        batch_indices = torch.tensor(\n",
    "            indices[i:min(i+batch_size,num_examples)])\n",
    "        yield features[batch_indices],labels[batch_indices]"
   ]
  },
  {
   "cell_type": "markdown",
   "id": "e5aa9805",
   "metadata": {},
   "source": [
    "## 初始化模型参数"
   ]
  },
  {
   "cell_type": "code",
   "execution_count": 91,
   "id": "0b2cccb4",
   "metadata": {},
   "outputs": [],
   "source": [
    "w = torch.normal(0,0.01,size=(2,1),requires_grad=True)\n",
    "b = torch.zeros(1,requires_grad=True)"
   ]
  },
  {
   "cell_type": "markdown",
   "id": "a1c704f1",
   "metadata": {},
   "source": [
    "## 定义线性回归模型"
   ]
  },
  {
   "cell_type": "code",
   "execution_count": 92,
   "id": "84ebdb8d",
   "metadata": {},
   "outputs": [],
   "source": [
    "def linreg(X,w,b):\n",
    "    return X @ w + b"
   ]
  },
  {
   "cell_type": "markdown",
   "id": "9cc3e65e",
   "metadata": {},
   "source": [
    "## 定义均方根损失函数"
   ]
  },
  {
   "cell_type": "code",
   "execution_count": 93,
   "id": "db7ba3a1",
   "metadata": {},
   "outputs": [],
   "source": [
    "def squared_loss(y_hat,y):\n",
    "    return (y_hat - y.reshape(y_hat.shape)) ** 2 / 2"
   ]
  },
  {
   "cell_type": "markdown",
   "id": "e4ad6d97",
   "metadata": {},
   "source": [
    "## 定义sgd优化算法"
   ]
  },
  {
   "cell_type": "code",
   "execution_count": 94,
   "id": "94ce8b82",
   "metadata": {},
   "outputs": [],
   "source": [
    "def sgd(params,lr,batch_size):\n",
    "    with torch.no_grad():\n",
    "        for param in params:\n",
    "            param -= lr * param.grad / batch_size\n",
    "            param.grad.zero_()"
   ]
  },
  {
   "cell_type": "markdown",
   "id": "e1528f6f",
   "metadata": {},
   "source": [
    "## 训练"
   ]
  },
  {
   "cell_type": "code",
   "execution_count": 95,
   "id": "99a31d06",
   "metadata": {},
   "outputs": [
    {
     "name": "stdout",
     "output_type": "stream",
     "text": [
      "epoch 1, loss 0.0319734662771225\n",
      "epoch 2, loss 0.0001028054830385372\n",
      "epoch 3, loss 4.8983471060637385e-05\n",
      "epoch 4, loss 4.8693174903746694e-05\n",
      "epoch 5, loss 4.866601011599414e-05\n"
     ]
    }
   ],
   "source": [
    "lr = 0.03\n",
    "num_epochs = 5\n",
    "net = linreg\n",
    "loss = squared_loss\n",
    "batch_size = 10\n",
    "\n",
    "for epoch in range(num_epochs):\n",
    "    for X,y in data_iter(batch_size,features,labels):\n",
    "        l = loss(net(X,w,b),y)\n",
    "        l.sum().backward()\n",
    "        sgd([w,b],lr,batch_size)\n",
    "    with torch.no_grad():\n",
    "        train_l = loss(net(features,w,b),labels)\n",
    "        print('epoch '+str(epoch+1)+', loss '+str(float(train_l.mean())))"
   ]
  },
  {
   "cell_type": "markdown",
   "id": "52bf9112",
   "metadata": {},
   "source": [
    "## 结果分析"
   ]
  },
  {
   "cell_type": "code",
   "execution_count": 96,
   "id": "670d3a9b",
   "metadata": {},
   "outputs": [
    {
     "name": "stdout",
     "output_type": "stream",
     "text": [
      "实际值: w = tensor([ 2.0000, -3.4000]) b = 4.2\n",
      "估计值: w = tensor([[ 1.9999],\n",
      "        [-3.4002]], requires_grad=True) b = tensor([4.2001], requires_grad=True)\n"
     ]
    }
   ],
   "source": [
    "print('实际值: w = '+str(true_w)+' b = '+str(true_b))\n",
    "print('估计值: w = '+str(w)+' b = '+str(b))"
   ]
  },
  {
   "cell_type": "markdown",
   "id": "d8ae0eb7",
   "metadata": {},
   "source": [
    "# 线性回归简洁实现\n",
    "## 构造迭代器"
   ]
  },
  {
   "cell_type": "code",
   "execution_count": 97,
   "id": "3aa096a2",
   "metadata": {},
   "outputs": [],
   "source": [
    "from torch.utils.data import DataLoader\n",
    "from torch.utils import data\n",
    "\n",
    "dataset = data.TensorDataset(features,labels)\n",
    "dataloader = DataLoader(dataset,batch_size=10,shuffle=True)"
   ]
  },
  {
   "cell_type": "markdown",
   "id": "ce248f66",
   "metadata": {},
   "source": [
    "## 定义模型"
   ]
  },
  {
   "cell_type": "code",
   "execution_count": 98,
   "id": "77c330f5",
   "metadata": {},
   "outputs": [],
   "source": [
    "from torch import nn\n",
    "\n",
    "net = nn.Sequential(\n",
    "    nn.Linear(2,1)\n",
    ")"
   ]
  },
  {
   "cell_type": "markdown",
   "id": "f6b1d42a",
   "metadata": {},
   "source": [
    "## 初始化模型参数"
   ]
  },
  {
   "cell_type": "code",
   "execution_count": 99,
   "id": "2b4c2b5e",
   "metadata": {},
   "outputs": [
    {
     "data": {
      "text/plain": [
       "tensor([0.])"
      ]
     },
     "execution_count": 99,
     "metadata": {},
     "output_type": "execute_result"
    }
   ],
   "source": [
    "net[0].weight.data.normal_(0,0.01)\n",
    "net[0].bias.data.fill_(0)"
   ]
  },
  {
   "cell_type": "markdown",
   "id": "235cafb4",
   "metadata": {},
   "source": [
    "## 定义均方根损失函数"
   ]
  },
  {
   "cell_type": "code",
   "execution_count": 100,
   "id": "7c92bf53",
   "metadata": {},
   "outputs": [],
   "source": [
    "loss = nn.MSELoss()"
   ]
  },
  {
   "cell_type": "markdown",
   "id": "17b8b8cc",
   "metadata": {},
   "source": [
    "## 定义优化器"
   ]
  },
  {
   "cell_type": "code",
   "execution_count": 101,
   "id": "692ea91d",
   "metadata": {},
   "outputs": [],
   "source": [
    "optimizer = torch.optim.SGD(net.parameters(),lr=0.03)"
   ]
  },
  {
   "cell_type": "markdown",
   "id": "3f89c1f8",
   "metadata": {},
   "source": [
    "## 训练"
   ]
  },
  {
   "cell_type": "code",
   "execution_count": 102,
   "id": "ec6c7eb6",
   "metadata": {},
   "outputs": [
    {
     "name": "stdout",
     "output_type": "stream",
     "text": [
      "epoch 1 loss 0.00020478320948313922\n",
      "epoch 2 loss 9.735140338307247e-05\n",
      "epoch 3 loss 9.776937804417685e-05\n"
     ]
    }
   ],
   "source": [
    "num_epochs = 3\n",
    "for epoch in range(num_epochs):\n",
    "    for X,y in dataloader:\n",
    "        l = loss(net(X),y)\n",
    "        optimizer.zero_grad()\n",
    "        l.backward()\n",
    "        optimizer.step()\n",
    "        \n",
    "    l = loss(net(features),labels)\n",
    "    print('epoch '+str(epoch+1)+' loss '+str(float(l)))"
   ]
  },
  {
   "cell_type": "markdown",
   "id": "b85ce580",
   "metadata": {},
   "source": [
    "## 结果分析"
   ]
  },
  {
   "cell_type": "code",
   "execution_count": 103,
   "id": "cc35d036",
   "metadata": {},
   "outputs": [
    {
     "name": "stdout",
     "output_type": "stream",
     "text": [
      "实际值: w = tensor([ 2.0000, -3.4000]) b = 4.2\n",
      "估计值: w = tensor([[ 1.9996, -3.4005]]) b = tensor([4.2003])\n"
     ]
    }
   ],
   "source": [
    "print('实际值: w = '+str(true_w)+' b = '+str(true_b))\n",
    "w = net[0].weight.data\n",
    "b = net[0].bias.data\n",
    "print('估计值: w = '+str(w)+' b = '+str(b))"
   ]
  }
 ],
 "metadata": {
  "kernelspec": {
   "display_name": "pt12",
   "language": "python",
   "name": "pt12"
  },
  "language_info": {
   "codemirror_mode": {
    "name": "ipython",
    "version": 3
   },
   "file_extension": ".py",
   "mimetype": "text/x-python",
   "name": "python",
   "nbconvert_exporter": "python",
   "pygments_lexer": "ipython3",
   "version": "3.8.13"
  }
 },
 "nbformat": 4,
 "nbformat_minor": 5
}

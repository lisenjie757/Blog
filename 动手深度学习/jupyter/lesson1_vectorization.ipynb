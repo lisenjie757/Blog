{
 "cells": [
  {
   "cell_type": "code",
   "execution_count": 5,
   "id": "89479eb5",
   "metadata": {},
   "outputs": [],
   "source": [
    "import numpy as np \n",
    "import torch\n",
    "import time"
   ]
  },
  {
   "cell_type": "markdown",
   "id": "f230cf8d",
   "metadata": {},
   "source": [
    "# 测试速度"
   ]
  },
  {
   "cell_type": "code",
   "execution_count": 4,
   "id": "1a2829ff",
   "metadata": {},
   "outputs": [
    {
     "name": "stdout",
     "output_type": "stream",
     "text": [
      "249913.9129535616\n",
      "Numpy Version: 1.6908645629882812ms\n",
      "tensor(249913.9130, dtype=torch.float64)\n",
      "Torch CPU Version: 1.4238357543945312ms\n",
      "tensor(249913.9130, device='cuda:0', dtype=torch.float64)\n",
      "Torch GPU Version: 1274.2106914520264ms\n",
      "249913.91295356725\n",
      "For Loop : 286.07654571533203ms\n"
     ]
    }
   ],
   "source": [
    "## numpy\n",
    "a = np.random.rand(1000000)\n",
    "b = np.random.rand(1000000)\n",
    "\n",
    "tic = time.time()\n",
    "c = np.dot(a,b)\n",
    "toc = time.time()\n",
    "\n",
    "print(c)\n",
    "print(\"Numpy Version: \"+str(1000*(toc-tic))+\"ms\")\n",
    "\n",
    "## torch cpu\n",
    "a_t = torch.from_numpy(a)\n",
    "b_t = torch.from_numpy(b)\n",
    "\n",
    "tic = time.time()\n",
    "c = a_t @ b_t\n",
    "toc = time.time()\n",
    "\n",
    "print(c)\n",
    "print(\"Torch CPU Version: \"+str(1000*(toc-tic))+\"ms\")\n",
    "\n",
    "## torch gpu\n",
    "a_t = torch.from_numpy(a).cuda()\n",
    "b_t = torch.from_numpy(b).cuda()\n",
    "\n",
    "tic = time.time()\n",
    "c = a_t @ b_t\n",
    "toc = time.time()\n",
    "\n",
    "print(c)\n",
    "print(\"Torch GPU Version: \"+str(1000*(toc-tic))+\"ms\")\n",
    "\n",
    "## for loop\n",
    "c = 0\n",
    "tic = time.time()\n",
    "for i in range(1000000):\n",
    "    c += a[i] * b[i]\n",
    "toc = time.time()\n",
    "\n",
    "print(c)\n",
    "print(\"For Loop : \"+str(1000*(toc-tic))+\"ms\")"
   ]
  }
 ],
 "metadata": {
  "kernelspec": {
   "display_name": "pt12",
   "language": "python",
   "name": "pt12"
  },
  "language_info": {
   "codemirror_mode": {
    "name": "ipython",
    "version": 3
   },
   "file_extension": ".py",
   "mimetype": "text/x-python",
   "name": "python",
   "nbconvert_exporter": "python",
   "pygments_lexer": "ipython3",
   "version": "3.8.13"
  }
 },
 "nbformat": 4,
 "nbformat_minor": 5
}

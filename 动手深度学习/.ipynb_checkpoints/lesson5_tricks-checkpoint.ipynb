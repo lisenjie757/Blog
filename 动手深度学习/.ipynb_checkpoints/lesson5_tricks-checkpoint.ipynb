{
 "cells": [
  {
   "cell_type": "markdown",
   "id": "3ae9f768",
   "metadata": {},
   "source": [
    "# 1 欠拟合和过拟合"
   ]
  },
  {
   "cell_type": "code",
   "execution_count": 1,
   "id": "b9745d6d",
   "metadata": {},
   "outputs": [
    {
     "name": "stderr",
     "output_type": "stream",
     "text": [
      "/opt/miniconda3/envs/pt12/lib/python3.9/site-packages/tqdm/auto.py:22: TqdmWarning: IProgress not found. Please update jupyter and ipywidgets. See https://ipywidgets.readthedocs.io/en/stable/user_install.html\n",
      "  from .autonotebook import tqdm as notebook_tqdm\n"
     ]
    }
   ],
   "source": [
    "import math\n",
    "import numpy as np\n",
    "import torch\n",
    "from torch import nn"
   ]
  },
  {
   "cell_type": "markdown",
   "id": "c64c1c3f",
   "metadata": {},
   "source": [
    "## 1.1 生成数据集\n",
    "使用以下三阶多项式生成训练集和测试集\n",
    "$$y = 5 + 1.2x - 3.4\\frac{x^2}{2!} + 5.6 \\frac{x^3}{3!} + \\epsilon \\text{ where }\n",
    "\\epsilon \\sim \\mathcal{N}(0, 0.1^2).$$"
   ]
  },
  {
   "cell_type": "code",
   "execution_count": null,
   "id": "5f93c7ca",
   "metadata": {},
   "outputs": [],
   "source": [
    "max_degree = 20 # 多项式最大阶数\n",
    "n_train, n_test = 100, 100 # 训练和测试集数量\n",
    "true_w = np.zeros(max_degree) # 生成真实标签\n",
    "true_w[0:4] = np.array = ([5, 1.2, -3.4, 5.6])\n",
    "\n",
    "features = np.random.normal(size=(n_train + n_test, 1))\n",
    "np.random.shuffle(features)\n",
    "poly_features = np.power(features, np.arange(max_degree).reshape(1, -1))\n",
    "for i in range(max_degree):\n",
    "    poly_features[:, i] /= math.gamma(i + 1)  # gamma(n)=(n-1)!\n",
    "    \n",
    "labels = np.dot()"
   ]
  }
 ],
 "metadata": {
  "kernelspec": {
   "display_name": "pt12",
   "language": "python",
   "name": "pt12"
  },
  "language_info": {
   "codemirror_mode": {
    "name": "ipython",
    "version": 3
   },
   "file_extension": ".py",
   "mimetype": "text/x-python",
   "name": "python",
   "nbconvert_exporter": "python",
   "pygments_lexer": "ipython3",
   "version": "3.9.13"
  }
 },
 "nbformat": 4,
 "nbformat_minor": 5
}

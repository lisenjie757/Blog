{
 "cells": [
  {
   "cell_type": "code",
   "execution_count": null,
   "id": "d0698ef8-385a-4df9-8d1d-6b324eb0d00c",
   "metadata": {},
   "outputs": [
    {
     "name": "stdout",
     "output_type": "stream",
     "text": [
      "1.12.0\n",
      "True\n",
      "cuda:0 0.00018405914306640625 tensor(1414297.6250, device='cuda:0')\n",
      "cuda:0 0.00024271011352539062 tensor(1414297.6250, device='cuda:0')\n"
     ]
    }
   ],
   "source": [
    "import torch\n",
    "import time\n",
    "\n",
    "print(torch.__version__)        # 返回pytorch的版本\n",
    "print(torch.cuda.is_available())        # 当CUDA可用时返回True\n",
    "\n",
    "a = torch.randn(10000, 1000)    # 返回10000行1000列的张量矩阵\n",
    "b = torch.randn(1000, 2000)     # 返回1000行2000列的张量矩阵\n",
    "\n",
    "t0 = time.time()        # 记录时间\n",
    "c = torch.matmul(a, b)      # 矩阵乘法运算\n",
    "t1 = time.time()        # 记录时间\n",
    "print(a.device, t1 - t0, c.norm(2))     # c.norm(2)表示矩阵c的二范数\n",
    "\n",
    "device = torch.device('cuda')       # 用GPU来运行\n",
    "a = a.to(device)\n",
    "b = b.to(device)\n",
    "\n",
    "# 初次调用GPU，需要数据传送，因此比较慢\n",
    "t0 = time.time()\n",
    "c = torch.matmul(a, b)\n",
    "t2 = time.time()\n",
    "print(a.device, t2 - t0, c.norm(2))\n",
    "\n",
    "# 这才是GPU处理数据的真实运行时间，当数据量越大，GPU的优势越明显\n",
    "t0 = time.time()\n",
    "c = torch.matmul(a, b)\n",
    "t2 = time.time()\n",
    "print(a.device, t2 - t0, c.norm(2))\n"
   ]
  }
 ],
 "metadata": {
  "kernelspec": {
   "display_name": "pt12",
   "language": "python",
   "name": "pt12"
  },
  "language_info": {
   "codemirror_mode": {
    "name": "ipython",
    "version": 3
   },
   "file_extension": ".py",
   "mimetype": "text/x-python",
   "name": "python",
   "nbconvert_exporter": "python",
   "pygments_lexer": "ipython3",
   "version": "3.8.13"
  }
 },
 "nbformat": 4,
 "nbformat_minor": 5
}
